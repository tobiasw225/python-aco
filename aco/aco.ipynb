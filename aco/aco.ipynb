{
 "cells": [
  {
   "cell_type": "markdown",
   "metadata": {},
   "source": [
    "# python-aco\n",
    "__Author__:Tobias Wenzel\n",
    "\n",
    "__Name__: PSO Implementation and P-ACO Implementation\n",
    "\n",
    "__Purpose__: Fun + Prep. for exam.\n",
    "\n",
    "\n",
    "## Ant Colony Optimizer (ACO)\n",
    "Implementation of the ACO with the possibility to visualise error, shortest path and the pheromone-matrix. This is done in the following way: \n",
    "\n",
    "Each ant guesses a paths through all points/cities according to a heuristic and the current pheromone value on the connection between the corresponding points. Meaning: The more pheromone and the closer, the higher the probability of choosing the city as next position in the path. After an iteration, the lenghts of the paths are compared and the connections between the cities of the winning ant get all of\n",
    "the pheromone (could be done otherwise). Also, each connection is\n",
    "decreased by (1-gamma). This is done until i==num_runs.\n",
    "\n",
    "\n",
    "## Population based Ant Colony Optimizer (P-ACO)\n",
    "\n",
    "Simple implementation of the P-ACO algorithm. This is similar to ACO, but there is no evaporation step. In this case a population of solution influences the choice of the ants. After 'population_size' steps, the solution looses it's impact and the corresponding pheromone value is removed from the pheromone matrix.\n",
    "\n",
    "\n",
    "## Relevant literature\n",
    "\n",
    "- Application to Shortest Path Problems: [Dorigo et al.,91] \n",
    "- Population based ACO (P-ACO): [Guntsch,Middendorf,2002]\n"
   ]
  },
  {
   "cell_type": "code",
   "execution_count": null,
   "metadata": {},
   "outputs": [],
   "source": []
  }
 ],
 "metadata": {
  "kernelspec": {
   "display_name": "Python 3",
   "language": "python",
   "name": "python3"
  },
  "language_info": {
   "codemirror_mode": {
    "name": "ipython",
    "version": 3
   },
   "file_extension": ".py",
   "mimetype": "text/x-python",
   "name": "python",
   "nbconvert_exporter": "python",
   "pygments_lexer": "ipython3",
   "version": "3.6.8"
  }
 },
 "nbformat": 4,
 "nbformat_minor": 2
}
